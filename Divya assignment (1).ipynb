{
 "cells": [
  {
   "cell_type": "code",
   "execution_count": 9,
   "id": "a64e63ca",
   "metadata": {},
   "outputs": [],
   "source": [
    "friends_list = [\"Sam\", \"Luke\", \"Ariana\", \"Tim\", \"Peter\", \"Samantha\"]\n",
    "fruits = [\"apple\", \"orange\", \"pear\", \"grapes\", \"pineapple\", \"papaya\", \"banana\"]\n",
    "capital_cities = [\"Sydney\", \"Melbourne\", \"Brisbane\", \"Perth\", \"Adelaide\", \"Darwin\", \"Hobart\"]\n"
   ]
  },
  {
   "cell_type": "code",
   "execution_count": 93,
   "id": "fcfb3e80",
   "metadata": {
    "scrolled": true
   },
   "outputs": [
    {
     "name": "stdout",
     "output_type": "stream",
     "text": [
      "Sam\n",
      "apple\n",
      "Sydney\n"
     ]
    }
   ],
   "source": [
    "friends_list = [\"Sam\", \"Luke\", \"Ariana\", \"Tim\", \"Peter\", \"Samantha\"]\n",
    "fruits = [\"apple\", \"orange\", \"pear\", \"grapes\", \"pineapple\", \"papaya\", \"banana\"]\n",
    "capital_cities = [\"Sydney\", \"Melbourne\", \"Brisbane\", \"Perth\", \"Adelaide\", \"Darwin\", \"Hobart\"]\n",
    "print(friends_list[0])\n",
    "print(fruits[0])\n",
    "print(capital_cities[0])"
   ]
  },
  {
   "cell_type": "code",
   "execution_count": 94,
   "id": "8dcba651",
   "metadata": {},
   "outputs": [
    {
     "name": "stdout",
     "output_type": "stream",
     "text": [
      "Samantha\n",
      "banana\n",
      "Hobart\n"
     ]
    }
   ],
   "source": [
    "print(friends_list[-1])\n",
    "print(fruits[-1])\n",
    "print(capital_cities[-1])"
   ]
  },
  {
   "cell_type": "code",
   "execution_count": 104,
   "id": "9c64c510",
   "metadata": {},
   "outputs": [
    {
     "name": "stdout",
     "output_type": "stream",
     "text": [
      "Ariana Tim\n",
      "pear grapes\n",
      "Brisbane Perth\n"
     ]
    }
   ],
   "source": [
    "friends_list = [\"Sam\", \"Luke\", \"Ariana\", \"Tim\", \"Peter\", \"Samantha\"]\n",
    "fruits = [\"apple\", \"orange\", \"pear\", \"grapes\", \"pineapple\", \"papaya\", \"banana\"]\n",
    "capital_cities = [\"Sydney\", \"Melbourne\", \"Brisbane\", \"Perth\", \"Adelaide\", \"Darwin\", \"Hobart\"]\n",
    "print(friends_list[2], friends_list[3])\n",
    "print(fruits[2],fruits[3])\n",
    "print(capital_cities[2],capital_cities[3])"
   ]
  },
  {
   "cell_type": "code",
   "execution_count": 136,
   "id": "06b0ecde",
   "metadata": {},
   "outputs": [
    {
     "name": "stdout",
     "output_type": "stream",
     "text": [
      "Adelaide\n"
     ]
    }
   ],
   "source": [
    "capital = {'NSW': 'Sydney', 'VIC': 'Melbourne', 'SA': 'Adelaide', 'WA': 'Perth', 'QLD': 'Brisbane'}\n",
    "print(capital.get('SA'))"
   ]
  },
  {
   "cell_type": "code",
   "execution_count": 135,
   "id": "f774f5ea",
   "metadata": {},
   "outputs": [
    {
     "name": "stdout",
     "output_type": "stream",
     "text": [
      "37 Sydney Street, NSW\n"
     ]
    }
   ],
   "source": [
    "employee = {'name': 'John Citizen', 'age': 47, 'Address': '37 Sydney Street, NSW'}\n",
    "print(employee.get('Address'))"
   ]
  },
  {
   "cell_type": "code",
   "execution_count": 107,
   "id": "159d3df3",
   "metadata": {},
   "outputs": [
    {
     "name": "stdout",
     "output_type": "stream",
     "text": [
      "72\n"
     ]
    }
   ],
   "source": [
    "unit_marks = {'COMP8325': 88, 'COMP2345': 92, 'ISYS545': 72, 'COMP8472': 85}\n",
    "print(unit_marks.get('ISYS545'))"
   ]
  },
  {
   "cell_type": "code",
   "execution_count": 152,
   "id": "9a9cb6d2",
   "metadata": {},
   "outputs": [
    {
     "name": "stdout",
     "output_type": "stream",
     "text": [
      "['COMP8325']\n"
     ]
    },
    {
     "data": {
      "text/plain": [
       "1"
      ]
     },
     "execution_count": 152,
     "metadata": {},
     "output_type": "execute_result"
    }
   ],
   "source": [
    "code = \"COMP8325\"\n",
    "splitcode = code.split()\n",
    "print(splitcode)\n",
    "len(splitcode)"
   ]
  },
  {
   "cell_type": "code",
   "execution_count": 151,
   "id": "b48d42aa",
   "metadata": {},
   "outputs": [
    {
     "name": "stdout",
     "output_type": "stream",
     "text": [
      "['Applications', 'of', 'Artificial', 'Intelligence', 'for', 'Cyber', 'Security']\n"
     ]
    },
    {
     "data": {
      "text/plain": [
       "7"
      ]
     },
     "execution_count": 151,
     "metadata": {},
     "output_type": "execute_result"
    }
   ],
   "source": [
    "title = \"Applications of Artificial Intelligence for Cyber Security\"\n",
    "splitString=title.split()\n",
    "print(splitString)\n",
    "len(splitString)"
   ]
  },
  {
   "cell_type": "code",
   "execution_count": 144,
   "id": "cf65c28f",
   "metadata": {},
   "outputs": [
    {
     "name": "stdout",
     "output_type": "stream",
     "text": [
      "['This', 'unit', 'deals', 'with', 'the', 'applications', 'of', 'Artificial', 'Intelligence', 'in', 'the', 'field', 'of', 'Cyber', 'Security.', 'Topics', 'covered', 'include', 'machine', 'learning-based', 'intrusion', 'detection', 'systems,', 'malware', 'detection,', 'AI', 'as', 'a', 'service,', 'digital', 'forensics,', 'incident', 'response', 'leveraging', 'SIEM', 'data.', 'Special', 'attention', 'will', 'be', 'given', 'to', 'the', 'concept', 'of', 'adversarial', 'machine', 'learning.']\n"
     ]
    },
    {
     "data": {
      "text/plain": [
       "48"
      ]
     },
     "execution_count": 144,
     "metadata": {},
     "output_type": "execute_result"
    }
   ],
   "source": [
    "description = \"\"\"This unit deals with the applications of Artificial Intelligence \n",
    "                in the field of Cyber Security. Topics covered include machine learning-based \n",
    "                intrusion detection systems, malware detection, AI as a service, digital forensics, \n",
    "                incident response leveraging SIEM data. Special attention will be given to the \n",
    "                concept of adversarial machine learning.\"\"\"\n",
    "splitString=description.split()\n",
    "print(splitString)\n",
    "len(splitString)"
   ]
  },
  {
   "cell_type": "code",
   "execution_count": 126,
   "id": "a6964438",
   "metadata": {},
   "outputs": [
    {
     "name": "stdout",
     "output_type": "stream",
     "text": [
      "applications of artificial intelligence for cyber security\n"
     ]
    }
   ],
   "source": [
    "title = \"Applications of Artificial Intelligence for Cyber Security\"\n",
    "e= title.lower()\n",
    "print(e)"
   ]
  },
  {
   "cell_type": "code",
   "execution_count": 127,
   "id": "462f1096",
   "metadata": {},
   "outputs": [
    {
     "name": "stdout",
     "output_type": "stream",
     "text": [
      "comp8325\n"
     ]
    }
   ],
   "source": [
    "code = \"COMP8325\"\n",
    "e= code.lower()\n",
    "print(e)"
   ]
  },
  {
   "cell_type": "code",
   "execution_count": 1,
   "id": "d6a62e4c",
   "metadata": {
    "scrolled": true
   },
   "outputs": [
    {
     "name": "stdout",
     "output_type": "stream",
     "text": [
      "this unit deals with the applications of artificial intelligence \n",
      "                in the field of cyber security. topics covered include machine learning-based \n",
      "                intrusion detection systems, malware detection, ai as a service, digital forensics, \n",
      "                incident response leveraging siem data. special attention will be given to the \n",
      "                concept of adversarial machine learning.\n"
     ]
    }
   ],
   "source": [
    "description = \"\"\"This unit deals with the applications of Artificial Intelligence \n",
    "                in the field of Cyber Security. Topics covered include machine learning-based \n",
    "                intrusion detection systems, malware detection, AI as a service, digital forensics, \n",
    "                incident response leveraging SIEM data. Special attention will be given to the \n",
    "                concept of adversarial machine learning.\"\"\"\n",
    "divya=description.lower()\n",
    "print(divya)"
   ]
  },
  {
   "cell_type": "code",
   "execution_count": 1,
   "id": "c8bcb0ef",
   "metadata": {},
   "outputs": [
    {
     "name": "stdout",
     "output_type": "stream",
     "text": [
      "Nissan\n"
     ]
    }
   ],
   "source": [
    "tuplex = (\"Nissan\", \"Toyota\", \"Mitsubishi\", \"MBW\", \"Ford\", \"Audi\") \n",
    "item = tuplex[0]\n",
    "print(item)\n"
   ]
  },
  {
   "cell_type": "code",
   "execution_count": 133,
   "id": "79e1b42f",
   "metadata": {},
   "outputs": [
    {
     "name": "stdout",
     "output_type": "stream",
     "text": [
      "MBW\n"
     ]
    }
   ],
   "source": [
    "item = tuplex[-3]\n",
    "print(item)"
   ]
  },
  {
   "cell_type": "code",
   "execution_count": null,
   "id": "2cf14c85",
   "metadata": {},
   "outputs": [],
   "source": [
    "text = \"\"\"Alone during the day, in my room or out of doors, I thought ?bout the waiter more \n",
    "          than about my ??r?nts; as I now realize, it was ? kind of love. I had n? desire for \n",
    "          contact, I wanted only to b? near him, and I missed him on his day off. When he finally \n",
    "          reappeared, his black-and-white attire brought lif? into the r??m and I acquired ? sense \n",
    "          of color. ?? always kept his distance, even when off duty, and that may have accounted for \n",
    "          my affection. ?n? day I ran into him in his street clothes at the bus-station buffet, \n",
    "          now in the role of ? guest, and there was no difference between the waiter at the hotel \n",
    "          and the young man in the gray suit with ? raincoat over his ?rm, resting ?n? foot on the \n",
    "          railing and slowly munching ? sausage while watching the departing buses. And perhaps \n",
    "          this aloofness in combination with his attentiveness ?nd poise were the components of \n",
    "          the beauty that so moved me. Even today, in ? predicament, I think about that waiter�s \n",
    "          poise; it doesn�t usually help much, but it brings back his image, and for the moment at \n",
    "          least I regain my composure.\n",
    "          \n",
    "          ?oward midnight, ?n my last day in the Black Earth Hotel � all the guests and the cook, too, \n",
    "          had left � I passed the open kitchen on my way to my room ?nd saw the waiter sitting b? ? \n",
    "          tub full of dishes, using ? tablecloth to dry them. Later, when I looked out of my window, \n",
    "          he was standing in his shirtsleeves on the bridge across the torrent, holding ? pile of \n",
    "          dishes under his right ?rm. With his left hand, he took one after another and with ? smooth \n",
    "          graceful movement sent them sailing into the water like so many Frisbees.\"\"\""
   ]
  },
  {
   "cell_type": "code",
   "execution_count": 134,
   "id": "b71f7387",
   "metadata": {},
   "outputs": [
    {
     "name": "stdout",
     "output_type": "stream",
     "text": [
      "23\n"
     ]
    }
   ],
   "source": [
    "comma=0;\n",
    "for element in text: \n",
    "    if element==',':\n",
    "         comma+=1;\n",
    "    \n",
    "print(comma)\n"
   ]
  },
  {
   "cell_type": "code",
   "execution_count": 34,
   "id": "9fc45de3",
   "metadata": {},
   "outputs": [
    {
     "name": "stdout",
     "output_type": "stream",
     "text": [
      "Count of the is 22\n"
     ]
    }
   ],
   "source": [
    "count=0;\n",
    "splitText=text.split()\n",
    "for c in splitText:\n",
    "    if c==\"the\":\n",
    "        count+=1;\n",
    "     \n",
    "print(\"Count of the is\",count)\n",
    "        \n",
    "    "
   ]
  },
  {
   "cell_type": "code",
   "execution_count": 38,
   "id": "bfe81407",
   "metadata": {
    "scrolled": true
   },
   "outputs": [
    {
     "name": "stdout",
     "output_type": "stream",
     "text": [
      "alone during the day, in my room or out of doors, i thought ?bout the waiter more \n",
      "          than about my ??r?nts; as i now realize, it was ? kind of love. i had n? desire for \n",
      "          contact, i wanted only to b? near him, and i missed him on his day off. when he finally \n",
      "          reappeared, his black-and-white attire brought lif? into the r??m and i acquired ? sense \n",
      "          of color. ?? always kept his distance, even when off duty, and that may have accounted for \n",
      "          my affection. ?n? day i ran into him in his street clothes at the bus-station buffet, \n",
      "          now in the role of ? guest, and there was no difference between the waiter at the hotel \n",
      "          and the young man in the gray suit with ? raincoat over his ?rm, resting ?n? foot on the \n",
      "          railing and slowly munching ? sausage while watching the departing buses. and perhaps \n",
      "          this aloofness in combination with his attentiveness ?nd poise were the components of \n",
      "          the beauty that so moved me. even today, in ? predicament, i think about that waiter�s \n",
      "          poise; it doesn�t usually help much, but it brings back his image, and for the moment at \n",
      "          least i regain my composure.\n",
      "          \n",
      "          ?oward midnight, ?n my last day in the black earth hotel � all the guests and the cook, too, \n",
      "          had left � i passed the open kitchen on my way to my room ?nd saw the waiter sitting b? ? \n",
      "          tub full of dishes, using ? tablecloth to dry them. later, when i looked out of my window, \n",
      "          he was standing in his shirtsleeves on the bridge across the torrent, holding ? pile of \n",
      "          dishes under his right ?rm. with his left hand, he took one after another and with ? smooth \n",
      "          graceful movement sent them sailing into the water like so many frisbees.\n"
     ]
    }
   ],
   "source": [
    "text = \"\"\"Alone during the day, in my room or out of doors, I thought ?bout the waiter more \n",
    "          than about my ??r?nts; as I now realize, it was ? kind of love. I had n? desire for \n",
    "          contact, I wanted only to b? near him, and I missed him on his day off. When he finally \n",
    "          reappeared, his black-and-white attire brought lif? into the r??m and I acquired ? sense \n",
    "          of color. ?? always kept his distance, even when off duty, and that may have accounted for \n",
    "          my affection. ?n? day I ran into him in his street clothes at the bus-station buffet, \n",
    "          now in the role of ? guest, and there was no difference between the waiter at the hotel \n",
    "          and the young man in the gray suit with ? raincoat over his ?rm, resting ?n? foot on the \n",
    "          railing and slowly munching ? sausage while watching the departing buses. And perhaps \n",
    "          this aloofness in combination with his attentiveness ?nd poise were the components of \n",
    "          the beauty that so moved me. Even today, in ? predicament, I think about that waiter�s \n",
    "          poise; it doesn�t usually help much, but it brings back his image, and for the moment at \n",
    "          least I regain my composure.\n",
    "          \n",
    "          ?oward midnight, ?n my last day in the Black Earth Hotel � all the guests and the cook, too, \n",
    "          had left � I passed the open kitchen on my way to my room ?nd saw the waiter sitting b? ? \n",
    "          tub full of dishes, using ? tablecloth to dry them. Later, when I looked out of my window, \n",
    "          he was standing in his shirtsleeves on the bridge across the torrent, holding ? pile of \n",
    "          dishes under his right ?rm. With his left hand, he took one after another and with ? smooth \n",
    "          graceful movement sent them sailing into the water like so many Frisbees.\"\"\"\n",
    "E=text.lower()\n",
    "print(E)"
   ]
  },
  {
   "cell_type": "code",
   "execution_count": 72,
   "id": "a53ebeb9",
   "metadata": {},
   "outputs": [
    {
     "name": "stdout",
     "output_type": "stream",
     "text": [
      "The string after punctuation filter :  ['alone', 'during', 'the', 'day', 'in', 'my', 'room', 'or', 'out', 'of', 'doors', 'i', 'thought', 'bout', 'waiter', 'more', 'than', 'about', 'rnts', 'as', 'now', 'realize', 'it', 'was', 'kind', 'love', 'had', 'n', 'desire', 'for', 'contact', 'wanted', 'only', 'to', 'b', 'near', 'him', 'and', 'missed', 'on', 'his', 'off', 'when', 'he', 'finally', 'reappeared', 'blackandwhite', 'attire', 'brought', 'lif', 'into', 'rm', 'acquired', 'sense', 'color', 'always', 'kept', 'distance', 'even', 'duty', 'that', 'may', 'have', 'accounted', 'affection', 'ran', 'street', 'clothes', 'at', 'busstation', 'buffet', 'role', 'guest', 'there', 'no', 'difference', 'between', 'hotel', 'young', 'man', 'gray', 'suit', 'with', 'raincoat', 'over', 'resting', 'foot', 'railing', 'slowly', 'munching', 'sausage', 'while', 'watching', 'departing', 'buses', 'perhaps', 'this', 'aloofness', 'combination', 'attentiveness', 'nd', 'poise', 'were', 'components', 'beauty', 'so', 'moved', 'me', 'today', 'predicament', 'think', 'waiters', 'doesnt', 'usually', 'help', 'much', 'but', 'brings', 'back', 'image', 'moment', 'least', 'regain', 'composure', 'oward', 'midnight', 'last', 'black', 'earth', 'all', 'guests', 'cook', 'too', 'left', 'passed', 'open', 'kitchen', 'way', 'saw', 'sitting', 'tub', 'full', 'dishes', 'using', 'tablecloth', 'dry', 'them', 'later', 'looked', 'window', 'standing', 'shirtsleeves', 'bridge', 'across', 'torrent', 'holding', 'pile', 'under', 'right', 'hand', 'took', 'one', 'after', 'another', 'smooth', 'graceful', 'movement', 'sent', 'sailing', 'water', 'like', 'many', 'frisbees']\n",
      "The number of unique words are 173\n"
     ]
    }
   ],
   "source": [
    "E =      \"\"\"alone during the day, in my room or out of doors, i thought ?bout the waiter more \n",
    "          than about my ??r?nts; as i now realize, it was ? kind of love. i had n? desire for \n",
    "          contact, i wanted only to b? near him, and i missed him on his day off. when he finally \n",
    "          reappeared, his black-and-white attire brought lif? into the r??m and i acquired ? sense \n",
    "          of color. ?? always kept his distance, even when off duty, and that may have accounted for \n",
    "          my affection. ?n? day i ran into him in his street clothes at the bus-station buffet, \n",
    "          now in the role of ? guest, and there was no difference between the waiter at the hotel \n",
    "          and the young man in the gray suit with ? raincoat over his ?rm, resting ?n? foot on the \n",
    "          railing and slowly munching ? sausage while watching the departing buses. and perhaps \n",
    "          this aloofness in combination with his attentiveness ?nd poise were the components of \n",
    "          the beauty that so moved me. even today, in ? predicament, i think about that waiter�s \n",
    "          poise; it doesn�t usually help much, but it brings back his image, and for the moment at \n",
    "          least i regain my composure.\n",
    "          \n",
    "          ?oward midnight, ?n my last day in the black earth hotel � all the guests and the cook, too, \n",
    "          had left � i passed the open kitchen on my way to my room ?nd saw the waiter sitting b? ? \n",
    "          tub full of dishes, using ? tablecloth to dry them. later, when i looked out of my window, \n",
    "          he was standing in his shirtsleeves on the bridge across the torrent, holding ? pile of \n",
    "          dishes under his right ?rm. with his left hand, he took one after another and with ? smooth \n",
    "          graceful movement sent them sailing into the water like so many frisbees.\"\"\"\n",
    "\n",
    "punc = '''!()-[]{};:'\"\\,<>./?@#$%^&*_~�'''\n",
    "unique=[]\n",
    "for e in E:\n",
    "     if e in punc:\n",
    "        E = E.replace(e, \"\")\n",
    "splitText= E.split()\n",
    "for e in splitText:\n",
    "    if e in unique:\n",
    "        unique=unique\n",
    "    else:\n",
    "        unique.append(e)\n",
    "print(\"The string after punctuation filter : \" , unique)\n",
    "length= len(unique)\n",
    "\n",
    "print(\"The number of unique words are\", length)"
   ]
  },
  {
   "cell_type": "code",
   "execution_count": 88,
   "id": "1ade5c7c",
   "metadata": {},
   "outputs": [
    {
     "name": "stdout",
     "output_type": "stream",
     "text": [
      "x [-5.         -4.8989899  -4.7979798  -4.6969697  -4.5959596  -4.49494949\n",
      " -4.39393939 -4.29292929 -4.19191919 -4.09090909 -3.98989899 -3.88888889\n",
      " -3.78787879 -3.68686869 -3.58585859 -3.48484848 -3.38383838 -3.28282828\n",
      " -3.18181818 -3.08080808 -2.97979798 -2.87878788 -2.77777778 -2.67676768\n",
      " -2.57575758 -2.47474747 -2.37373737 -2.27272727 -2.17171717 -2.07070707\n",
      " -1.96969697 -1.86868687 -1.76767677 -1.66666667 -1.56565657 -1.46464646\n",
      " -1.36363636 -1.26262626 -1.16161616 -1.06060606 -0.95959596 -0.85858586\n",
      " -0.75757576 -0.65656566 -0.55555556 -0.45454545 -0.35353535 -0.25252525\n",
      " -0.15151515 -0.05050505  0.05050505  0.15151515  0.25252525  0.35353535\n",
      "  0.45454545  0.55555556  0.65656566  0.75757576  0.85858586  0.95959596\n",
      "  1.06060606  1.16161616  1.26262626  1.36363636  1.46464646  1.56565657\n",
      "  1.66666667  1.76767677  1.86868687  1.96969697  2.07070707  2.17171717\n",
      "  2.27272727  2.37373737  2.47474747  2.57575758  2.67676768  2.77777778\n",
      "  2.87878788  2.97979798  3.08080808  3.18181818  3.28282828  3.38383838\n",
      "  3.48484848  3.58585859  3.68686869  3.78787879  3.88888889  3.98989899\n",
      "  4.09090909  4.19191919  4.29292929  4.39393939  4.49494949  4.5959596\n",
      "  4.6969697   4.7979798   4.8989899   5.        ]\n",
      "y [1.48671951e-06 2.45106104e-06 3.99989037e-06 6.46116639e-06\n",
      " 1.03310066e-05 1.63509589e-05 2.56160812e-05 3.97238224e-05\n",
      " 6.09759040e-05 9.26476353e-05 1.39341123e-04 2.07440309e-04\n",
      " 3.05686225e-04 4.45889725e-04 6.43795498e-04 9.20104770e-04\n",
      " 1.30165384e-03 1.82273110e-03 2.52649578e-03 3.46643792e-03\n",
      " 4.70779076e-03 6.32877643e-03 8.42153448e-03 1.10925548e-02\n",
      " 1.44624148e-02 1.86646099e-02 2.38432745e-02 3.01496139e-02\n",
      " 3.77369231e-02 4.67541424e-02 5.73380051e-02 6.96039584e-02\n",
      " 8.36361772e-02 9.94771388e-02 1.17117360e-01 1.36486009e-01\n",
      " 1.57443188e-01 1.79774665e-01 2.03189836e-01 2.27323506e-01\n",
      " 2.51741947e-01 2.75953371e-01 2.99422683e-01 3.21590023e-01\n",
      " 3.41892294e-01 3.59786558e-01 3.74773979e-01 3.86422853e-01\n",
      " 3.94389234e-01 3.98433802e-01 3.98433802e-01 3.94389234e-01\n",
      " 3.86422853e-01 3.74773979e-01 3.59786558e-01 3.41892294e-01\n",
      " 3.21590023e-01 2.99422683e-01 2.75953371e-01 2.51741947e-01\n",
      " 2.27323506e-01 2.03189836e-01 1.79774665e-01 1.57443188e-01\n",
      " 1.36486009e-01 1.17117360e-01 9.94771388e-02 8.36361772e-02\n",
      " 6.96039584e-02 5.73380051e-02 4.67541424e-02 3.77369231e-02\n",
      " 3.01496139e-02 2.38432745e-02 1.86646099e-02 1.44624148e-02\n",
      " 1.10925548e-02 8.42153448e-03 6.32877643e-03 4.70779076e-03\n",
      " 3.46643792e-03 2.52649578e-03 1.82273110e-03 1.30165384e-03\n",
      " 9.20104770e-04 6.43795498e-04 4.45889725e-04 3.05686225e-04\n",
      " 2.07440309e-04 1.39341123e-04 9.26476353e-05 6.09759040e-05\n",
      " 3.97238224e-05 2.56160812e-05 1.63509589e-05 1.03310066e-05\n",
      " 6.46116639e-06 3.99989037e-06 2.45106104e-06 1.48671951e-06]\n"
     ]
    },
    {
     "data": {
      "text/plain": [
       "[<matplotlib.lines.Line2D at 0x25e35a892b0>]"
      ]
     },
     "execution_count": 88,
     "metadata": {},
     "output_type": "execute_result"
    },
    {
     "data": {
      "image/png": "[encoded data removed]",
      "text/plain": [
       "<Figure size 432x288 with 1 Axes>"
      ]
     },
     "metadata": {
      "needs_background": "light"
     },
     "output_type": "display_data"
    }
   ],
   "source": [
    "import matplotlib.pyplot as plt\n",
    "def gaussian(mu, sigma, x):\n",
    "    aterm= 1/(sigma * np.sqrt(2 * np.pi))\n",
    "    bterm= np.exp(-0.5 * ((x-mu)/sigma) ** 2)\n",
    "    return aterm*bterm\n",
    "x = np.linspace(-5,5,100)   \n",
    "y= gaussian(0,1,x)    \n",
    "print(\"x\",x)\n",
    "print(\"y\",y)\n",
    "plt.figure()\n",
    "ax = plt.gca()\n",
    "plt.plot(x, y)"
   ]
  }
 ],
 "metadata": {
  "kernelspec": {
   "display_name": "Python 3 (ipykernel)",
   "language": "python",
   "name": "python3"
  },
  "language_info": {
   "codemirror_mode": {
    "name": "ipython",
    "version": 3
   },
   "file_extension": ".py",
   "mimetype": "text/x-python",
   "name": "python",
   "nbconvert_exporter": "python",
   "pygments_lexer": "ipython3",
   "version": "3.9.7"
  }
 },
 "nbformat": 4,
 "nbformat_minor": 5
}
